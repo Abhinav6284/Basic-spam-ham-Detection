{
 "cells": [
  {
   "cell_type": "code",
   "execution_count": 27,
   "id": "dcf66210-3164-465e-9f44-aab2725b05f7",
   "metadata": {},
   "outputs": [],
   "source": [
    "import pandas as pd \n",
    "from sklearn.model_selection import train_test_split\n",
    "from sklearn.feature_extraction.text import CountVectorizer\n",
    "from sklearn.naive_bayes import MultinomialNB\n",
    "from sklearn.metrics import accuracy_score, classification_report\n",
    "import matplotlib.pyplot as plt\n"
   ]
  },
  {
   "cell_type": "code",
   "execution_count": 25,
   "id": "bac134b6-4b99-45ba-b068-b8a2f607bef9",
   "metadata": {},
   "outputs": [
    {
     "name": "stdout",
     "output_type": "stream",
     "text": [
      "Accurace: 0.9856502242152466\n",
      "\n",
      " Classification Report               precision    recall  f1-score   support\n",
      "\n",
      "         ham       0.99      0.99      0.99       966\n",
      "        spam       0.94      0.95      0.95       149\n",
      "\n",
      "    accuracy                           0.99      1115\n",
      "   macro avg       0.97      0.97      0.97      1115\n",
      "weighted avg       0.99      0.99      0.99      1115\n",
      "\n"
     ]
    }
   ],
   "source": [
    "\n",
    "url = \"https://raw.githubusercontent.com/justmarkham/pycon-2016-tutorial/master/data/sms.tsv\"\n",
    "data = pd.read_csv(url, sep=\"\\t\", header=None, names = [\"label\" , \"message\"] )\n",
    "\n",
    "vectorizer = CountVectorizer()\n",
    "model = MultinomialNB()\n",
    "model.fit(x_train, y_train)\n",
    "x = vectorizer.fit_transform(data['message'])\n",
    "\n",
    "y = data['label']\n",
    "\n",
    "x_train ,x_test,y_train, y_test = train_test_split(x,y,test_size=0.2,random_state = 42)\n",
    "y_pred = model.predict(x_test)\n",
    "print(\"Accurace:\", accuracy_score(y_test, y_pred))\n",
    "\n",
    "print(\"\\n Classification Report\", classification_report(y_test, y_pred))\n",
    "\n",
    "\n"
   ]
  },
  {
   "cell_type": "code",
   "execution_count": 28,
   "id": "4e288057-3680-4b67-ab8a-54430b16e5d0",
   "metadata": {},
   "outputs": [
    {
     "data": {
      "text/plain": [
       "['model/vectorizer.pkl']"
      ]
     },
     "execution_count": 28,
     "metadata": {},
     "output_type": "execute_result"
    }
   ],
   "source": [
    "import joblib\n",
    "import os\n",
    "\n",
    "# Make sure model folder exists\n",
    "os.makedirs('model', exist_ok=True)\n",
    "\n",
    "# Save your trained model and vectorizer\n",
    "joblib.dump(model, 'model/model.pkl')\n",
    "joblib.dump(vectorizer, 'model/vectorizer.pkl')"
   ]
  },
  {
   "cell_type": "code",
   "execution_count": null,
   "id": "ab11d252-7b8e-4b80-9c7f-2acdb0187210",
   "metadata": {},
   "outputs": [],
   "source": []
  }
 ],
 "metadata": {
  "kernelspec": {
   "display_name": "Python 3 (ipykernel)",
   "language": "python",
   "name": "python3"
  },
  "language_info": {
   "codemirror_mode": {
    "name": "ipython",
    "version": 3
   },
   "file_extension": ".py",
   "mimetype": "text/x-python",
   "name": "python",
   "nbconvert_exporter": "python",
   "pygments_lexer": "ipython3",
   "version": "3.12.7"
  }
 },
 "nbformat": 4,
 "nbformat_minor": 5
}
